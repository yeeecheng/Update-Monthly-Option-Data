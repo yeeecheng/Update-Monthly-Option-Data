{
  "nbformat": 4,
  "nbformat_minor": 0,
  "metadata": {
    "colab": {
      "provenance": [],
      "collapsed_sections": [],
      "include_colab_link": true
    },
    "kernelspec": {
      "name": "python3",
      "display_name": "Python 3"
    },
    "language_info": {
      "name": "python"
    }
  },
  "cells": [
    {
      "cell_type": "markdown",
      "metadata": {
        "id": "view-in-github",
        "colab_type": "text"
      },
      "source": [
        "<a href=\"https://colab.research.google.com/github/yeeecheng/Update-Monthly-Option-Data/blob/main/%E6%9C%88%E9%81%B8%E6%93%87%E6%AC%8A%E8%B3%87%E6%96%99%E5%8D%B3%E6%99%82%E6%9B%B4%E6%96%B0.ipynb\" target=\"_parent\"><img src=\"https://colab.research.google.com/assets/colab-badge.svg\" alt=\"Open In Colab\"/></a>"
      ]
    },
    {
      "cell_type": "markdown",
      "source": [
        "# 選擇權(月)歷史資料即時更新"
      ],
      "metadata": {
        "id": "wvBYfvDKbsFi"
      }
    },
    {
      "cell_type": "code",
      "source": [
        "import urllib3\n",
        "from bs4 import BeautifulSoup\n",
        "\n",
        "import pandas as pd\n",
        "from datetime import date\n",
        "import sys\n",
        "import datetime\n",
        "import calendar\n",
        "\n",
        "import matplotlib.pyplot as plt\n",
        "%matplotlib inline\n",
        "\n",
        "from google.colab import files\n",
        "from google.colab import drive \n",
        "\n",
        "import requests.packages.urllib3\n",
        "requests.packages.urllib3.disable_warnings()\n"
      ],
      "metadata": {
        "id": "To3kIDJUuN1l",
        "colab": {
          "base_uri": "https://localhost:8080/",
          "height": 139
        },
        "outputId": "0ea08062-b7ec-46aa-9f7c-4e4226c1f3c9"
      },
      "execution_count": null,
      "outputs": [
        {
          "output_type": "stream",
          "name": "stdout",
          "text": [
            "update 2022/07 data\n",
            "update 2022/08 data\n",
            "update 2022/09 data\n"
          ]
        },
        {
          "output_type": "display_data",
          "data": {
            "text/plain": [
              "<IPython.core.display.Javascript object>"
            ],
            "application/javascript": [
              "\n",
              "    async function download(id, filename, size) {\n",
              "      if (!google.colab.kernel.accessAllowed) {\n",
              "        return;\n",
              "      }\n",
              "      const div = document.createElement('div');\n",
              "      const label = document.createElement('label');\n",
              "      label.textContent = `Downloading \"${filename}\": `;\n",
              "      div.appendChild(label);\n",
              "      const progress = document.createElement('progress');\n",
              "      progress.max = size;\n",
              "      div.appendChild(progress);\n",
              "      document.body.appendChild(div);\n",
              "\n",
              "      const buffers = [];\n",
              "      let downloaded = 0;\n",
              "\n",
              "      const channel = await google.colab.kernel.comms.open(id);\n",
              "      // Send a message to notify the kernel that we're ready.\n",
              "      channel.send({})\n",
              "\n",
              "      for await (const message of channel.messages) {\n",
              "        // Send a message to notify the kernel that we're ready.\n",
              "        channel.send({})\n",
              "        if (message.buffers) {\n",
              "          for (const buffer of message.buffers) {\n",
              "            buffers.push(buffer);\n",
              "            downloaded += buffer.byteLength;\n",
              "            progress.value = downloaded;\n",
              "          }\n",
              "        }\n",
              "      }\n",
              "      const blob = new Blob(buffers, {type: 'application/binary'});\n",
              "      const a = document.createElement('a');\n",
              "      a.href = window.URL.createObjectURL(blob);\n",
              "      a.download = filename;\n",
              "      div.appendChild(a);\n",
              "      a.click();\n",
              "      div.remove();\n",
              "    }\n",
              "  "
            ]
          },
          "metadata": {}
        },
        {
          "output_type": "display_data",
          "data": {
            "text/plain": [
              "<IPython.core.display.Javascript object>"
            ],
            "application/javascript": [
              "download(\"download_97144fd1-4885-4717-b997-ba13427960e8\", \"\\u6708\\u9078\\u64c7\\u6b0a\\u7d50\\u7b97\\u50f9.csv\", 10301)"
            ]
          },
          "metadata": {}
        },
        {
          "output_type": "stream",
          "name": "stderr",
          "text": [
            "/usr/local/lib/python3.7/dist-packages/IPython/core/interactiveshell.py:3326: DtypeWarning: Columns (2) have mixed types.Specify dtype option on import or set low_memory=False.\n",
            "  exec(code_obj, self.user_global_ns, self.user_ns)\n"
          ]
        },
        {
          "output_type": "display_data",
          "data": {
            "text/plain": [
              "<IPython.core.display.Javascript object>"
            ],
            "application/javascript": [
              "\n",
              "    async function download(id, filename, size) {\n",
              "      if (!google.colab.kernel.accessAllowed) {\n",
              "        return;\n",
              "      }\n",
              "      const div = document.createElement('div');\n",
              "      const label = document.createElement('label');\n",
              "      label.textContent = `Downloading \"${filename}\": `;\n",
              "      div.appendChild(label);\n",
              "      const progress = document.createElement('progress');\n",
              "      progress.max = size;\n",
              "      div.appendChild(progress);\n",
              "      document.body.appendChild(div);\n",
              "\n",
              "      const buffers = [];\n",
              "      let downloaded = 0;\n",
              "\n",
              "      const channel = await google.colab.kernel.comms.open(id);\n",
              "      // Send a message to notify the kernel that we're ready.\n",
              "      channel.send({})\n",
              "\n",
              "      for await (const message of channel.messages) {\n",
              "        // Send a message to notify the kernel that we're ready.\n",
              "        channel.send({})\n",
              "        if (message.buffers) {\n",
              "          for (const buffer of message.buffers) {\n",
              "            buffers.push(buffer);\n",
              "            downloaded += buffer.byteLength;\n",
              "            progress.value = downloaded;\n",
              "          }\n",
              "        }\n",
              "      }\n",
              "      const blob = new Blob(buffers, {type: 'application/binary'});\n",
              "      const a = document.createElement('a');\n",
              "      a.href = window.URL.createObjectURL(blob);\n",
              "      a.download = filename;\n",
              "      div.appendChild(a);\n",
              "      a.click();\n",
              "      div.remove();\n",
              "    }\n",
              "  "
            ]
          },
          "metadata": {}
        },
        {
          "output_type": "display_data",
          "data": {
            "text/plain": [
              "<IPython.core.display.Javascript object>"
            ],
            "application/javascript": [
              "download(\"download_98668922-fc91-46da-9b81-419398b2a5d8\", \"\\u6708\\u9078\\u64c7\\u6b0a\\u6b77\\u53f2\\u8cc7\\u6599.csv\", 35367333)"
            ]
          },
          "metadata": {}
        }
      ]
    },
    {
      "cell_type": "code",
      "source": [
        "def read_file(file_name):\n",
        "  \n",
        "  df = pd.read_csv(file_name)\n",
        "\n",
        "  row,col= df.shape\n",
        "\n",
        "  #資料日期\n",
        "  data_date = df['最後結算日'][row-1].split('-')\n",
        "  #目前日期\n",
        "  cur_date = str(datetime.date.today()).split('-')\n",
        "\n",
        "  #判斷是否為最新\n",
        "  if(data_date == cur_date): \n",
        "    sys.exit(\"已是最新版本!\")\n",
        "\n",
        "  return df,data_date,cur_date"
      ],
      "metadata": {
        "id": "DURjNmpREiIe"
      },
      "execution_count": null,
      "outputs": []
    },
    {
      "cell_type": "code",
      "source": [
        "def post_http(data_date):\n",
        "\n",
        "  #每月週選擇權資料爬蟲\n",
        "\n",
        "\n",
        "  http = urllib3.PoolManager()\n",
        "  url = \"https://www.taifex.com.tw/cht/5/fSPDataDown\"\n",
        "  res = http.request(\n",
        "      'POST',\n",
        "      url,\n",
        "      fields={\n",
        "          'dlFileType' : 3,\n",
        "          'start_year' : data_date[0],\n",
        "          'start_month' : data_date[1],\n",
        "          'end_year': data_date[0],\n",
        "          'end_month' : data_date[1]\n",
        "      }\n",
        "  )\n",
        "\n",
        "  html_doc = res.data\n",
        "  #html_doc\n",
        "\n",
        "  soup = BeautifulSoup(html_doc, 'html.parser')\n",
        "  soup\n",
        "\n",
        "  soup_str = str(soup)\n",
        "  lines = soup_str.split('\\r\\n')\n",
        "\n",
        "  return lines"
      ],
      "metadata": {
        "id": "JCKUkzpbEkwu"
      },
      "execution_count": null,
      "outputs": []
    },
    {
      "cell_type": "code",
      "source": [
        "def check_updated_date(data_date,lines):\n",
        "  \n",
        "  #找到要從哪裡更新資料\n",
        "  start_idx = 0\n",
        "  for i in range(len(lines)-2,0,-1):\n",
        "  \n",
        "      day_list = lines[i].split(',')[0].split('/')\n",
        "      if(int(day_list[2])>int(data_date[2])):\n",
        "        start_idx = i\n",
        "        break\n",
        "\n",
        "  return start_idx\n",
        "\n"
      ],
      "metadata": {
        "id": "YYawl-VYEm_r"
      },
      "execution_count": null,
      "outputs": []
    },
    {
      "cell_type": "code",
      "source": [
        "def process_new_data(new_data,lines,start_idx):\n",
        "  \n",
        "  \n",
        "  for i in range(start_idx,0,-1):\n",
        "\n",
        "    detail_list = lines[i].split(',')\n",
        "\n",
        "    #防止出現一些例外   \n",
        "    if(len(detail_list)!=5):\n",
        "        continue\n",
        "\n",
        "\n",
        "    if(detail_list[2]!='TXO'):\n",
        "        continue\n",
        "\n",
        "    new_data.append(detail_list)\n",
        "    \n",
        "  return new_data"
      ],
      "metadata": {
        "id": "gGyVgtbyErmc"
      },
      "execution_count": null,
      "outputs": []
    },
    {
      "cell_type": "code",
      "source": [
        "def concat_data(df,new_data):\n",
        "  \n",
        "  new_df = pd.DataFrame(new_data,columns=df.columns)\n",
        "  df = pd.concat([df,new_df],ignore_index=True)\n",
        "\n",
        "  \n",
        "\n",
        "  return df"
      ],
      "metadata": {
        "id": "l3hGvEeAEtkt"
      },
      "execution_count": null,
      "outputs": []
    },
    {
      "cell_type": "code",
      "source": [
        "def create_csv(df,file_name):\n",
        "  \n",
        "  df.to_csv(file_name, encoding = 'utf-8-sig')\n",
        "  "
      ],
      "metadata": {
        "id": "Gbg7UhW4EvRC"
      },
      "execution_count": null,
      "outputs": []
    },
    {
      "cell_type": "code",
      "source": [
        "def process_Date(df):\n",
        "  for i in range(len(df)):\n",
        "\n",
        "    df['最後結算日'][i] = df['最後結算日'][i].replace('/','-')\n",
        "\n",
        "  return df\n"
      ],
      "metadata": {
        "id": "HxIHxjXsEz9T"
      },
      "execution_count": null,
      "outputs": []
    },
    {
      "cell_type": "code",
      "source": [
        "def process_csv(df):\n",
        "  for i in range(len(df)):\n",
        "\n",
        "    df['最後結算日'][i] = df['最後結算日'][i].replace('-','')\n",
        "    df['契約月份'][i] = df['契約月份'][i].replace('W','7')\n",
        "\n",
        "  return df"
      ],
      "metadata": {
        "id": "lFbNRMntEz4n"
      },
      "execution_count": null,
      "outputs": []
    },
    {
      "cell_type": "code",
      "source": [
        "def read_file_OPT(file_name):\n",
        "\n",
        "  df = pd.read_csv(file_name)\n",
        "  row,col= df.shape\n",
        "  doc_date = df['交易日期'][row-1].split('-')\n",
        "  cur_date = date.today().strftime('%Y-%m-%d').split('-')\n",
        "\n",
        "  if doc_date == cur_date:\n",
        "      sys.exit(\"檔案已經是最新的版本\")\n",
        "\n",
        "  return df,doc_date,cur_date"
      ],
      "metadata": {
        "id": "3ThtxuNuE4RX"
      },
      "execution_count": null,
      "outputs": []
    },
    {
      "cell_type": "code",
      "source": [
        "def post_http_OPT(year,month,day,lastDay):\n",
        "  http = urllib3.PoolManager()\n",
        "  url = \"https://www.taifex.com.tw/cht/3/optDataDown\"\n",
        "  res = http.request(\n",
        "      'POST',\n",
        "      url,\n",
        "      fields={\n",
        "          'down_type': 1,\n",
        "          'commodity_id': 'TXO',\n",
        "          'queryStartDate' : f'{year}/{month}/{day}',\n",
        "          'queryEndDate': f'{year}/{month}/{lastDay}'\n",
        "      }\n",
        "  )\n",
        "\n",
        "  html_doc = res.data\n",
        "  soup = BeautifulSoup(html_doc, 'html.parser')\n",
        "  soup_str = str(soup)\n",
        "  lines = soup_str.split('\\r\\n')\n",
        "  \n",
        "  return lines\n"
      ],
      "metadata": {
        "id": "BGNqm-xtE5pa"
      },
      "execution_count": null,
      "outputs": []
    },
    {
      "cell_type": "code",
      "source": [
        "def check_updated_date_OPT(doc_date):\n",
        "\n",
        "  year = int(doc_date[0])\n",
        "  month = int(doc_date[1])\n",
        "  day = int(doc_date[2]) + 1\n",
        "  if day > calendar.monthrange(year, month)[1]:\n",
        "    month+=1\n",
        "\n",
        "  return year,month,day\n",
        "\n",
        "\n"
      ],
      "metadata": {
        "id": "Rm1uVTAmE7Hr"
      },
      "execution_count": null,
      "outputs": []
    },
    {
      "cell_type": "code",
      "source": [
        "def addToFile(file, what):\n",
        "  \n",
        "  open(file, 'a',encoding = 'utf-8-sig').write(what)\n"
      ],
      "metadata": {
        "id": "u0Ki0mdLE8WM"
      },
      "execution_count": null,
      "outputs": []
    },
    {
      "cell_type": "code",
      "source": [
        "def process_csv_OPT(df):\n",
        "\n",
        "  df['交易日期']=df['交易日期'].str.replace('-','')\n",
        "  df['到期月份(週別)']=df['到期月份(週別)'].str.replace('W','7')\n",
        "  \n",
        "  return df"
      ],
      "metadata": {
        "id": "qAber3wzE9Zb"
      },
      "execution_count": null,
      "outputs": []
    },
    {
      "cell_type": "code",
      "source": [
        "def create_csv_OPT(df,file_name):\n",
        "  \n",
        "  df.to_csv(file_name, encoding = 'utf-8-sig')"
      ],
      "metadata": {
        "id": "gN2LSet9E-SE"
      },
      "execution_count": null,
      "outputs": []
    },
    {
      "cell_type": "code",
      "source": [
        "\n",
        "#月選結算\n",
        "\n",
        "df , data_date , cur_date = read_file('https://drive.google.com/uc?export=download&id=1-0rjc0jHCZB2w5oAEtB85VMzP0AVt66x')\n",
        "\n",
        "start_date = data_date.copy()\n",
        "new_data=[]\n",
        "\n",
        "#以每個月為單位更新資料\n",
        "while(start_date[0]!=cur_date[0] or int(start_date[1]) <= int(cur_date[1])):\n",
        "  \n",
        "  print(f\"update {start_date[0]}/{start_date[1]} data\")\n",
        "  lines = post_http(start_date)\n",
        "  start_idx=len(lines)-2\n",
        "\n",
        "  if(start_date == data_date):\n",
        "    start_idx = check_updated_date(start_date,lines)\n",
        "\n",
        "  new_data = process_new_data(new_data,lines,start_idx)\n",
        "\n",
        "  month = int(start_date[1])+1\n",
        "  year = int(start_date[0])\n",
        "  if(month >12):\n",
        "    year+=1\n",
        "    month=1\n",
        "  start_date[2]=\"01\"\n",
        "  start_date[1]=str(month).zfill(2)\n",
        "  start_date[0]=str(year).zfill(4)\n",
        "\n",
        "\n",
        "\n",
        "#結合資料\n",
        "df =concat_data(df,new_data)\n",
        "\n",
        "\n",
        "#更新原始資料\n",
        "file_name=\"data_month.csv\"\n",
        "df['契約月份'] = df['契約月份'].astype(str)\n",
        "df = df[~df['契約月份'].str.contains(\"W\")]\n",
        "df['契約月份'] = df['契約月份'].str.strip()\n",
        "df.reset_index(drop=True, inplace=True)\n",
        "df = process_Date(df)\n",
        "df.set_index('最後結算日' , inplace=True)\n",
        "create_csv(df,file_name)\n",
        "\n",
        "\n",
        "\n",
        "#下載\n",
        "file_name=\"月選擇權結算價.csv\"\n",
        "df.reset_index(inplace=True)\n",
        "df = process_csv(df)\n",
        "df.set_index('最後結算日' , inplace=True)\n",
        "create_csv(df,file_name)\n",
        "files.download(file_name)\n"
      ],
      "metadata": {
        "id": "QyIfeDo-FMsL"
      },
      "execution_count": null,
      "outputs": []
    },
    {
      "cell_type": "code",
      "source": [
        "#月選擇權歷史\n",
        "df ,doc_date,cur_date =read_file_OPT(\"https://drive.google.com/uc?export=download&id=1Oza020DlaM7kQp9gtLCC0A3KG1Iym_vi\")\n",
        "#找到要更新時間\n",
        "year,month,day =check_updated_date_OPT(doc_date)\n",
        "\n",
        "array_csv = ''\n",
        "#以一個月為單位更新資料\n",
        "while(year != int(cur_date[0]) or month <= int(cur_date[1])):\n",
        "\n",
        "    if(month == 13):\n",
        "      year += 1\n",
        "      month = 1\n",
        "    \n",
        "    if(year != int(doc_date[0]) or month != int(doc_date[1])):\n",
        "      day=1\n",
        "    \n",
        "    lastDay = cur_date[2] if year == cur_date[0] and month == cur_date[1] else calendar.monthrange(year, month)[1]\n",
        "\n",
        "    lines = post_http_OPT(year,month,day,lastDay)\n",
        "\n",
        "    for i in range(1, len(lines)-1):\n",
        "        line = lines[i].split(',')\n",
        "        if line[17] == '一般': \n",
        "          line[0] = line[0].replace('/','-')\n",
        "          for i in range(0,19):\n",
        "            array_csv+=line[i]+','\n",
        "          array_csv+=line[19]+'\\n'\n",
        "        \n",
        "    month+=1\n",
        "\n",
        "file_name =\"data_month_OPT.csv\"\n",
        "df.set_index('交易日期' , inplace=True)\n",
        "create_csv_OPT(df,file_name)\n",
        "\n",
        "\n",
        "#更新原始資料\n",
        "addToFile('data_month_OPT.csv', array_csv)\n",
        "\n",
        "\n",
        "#查表\n",
        "TXO_OPT = pd.read_csv('data_month_OPT.csv')\n",
        "TXO_OPT['到期月份(週別)'] = TXO_OPT['到期月份(週別)'].astype(str) \n",
        "TXO_OPT['到期月份(週別)']=TXO_OPT['到期月份(週別)'].str.strip()\n",
        "TXO_OPT = TXO_OPT.set_index(pd.to_datetime(TXO_OPT[\"交易日期\"])) #將日期置為索引\n",
        "\n",
        "\n",
        "\n",
        "\n",
        "Date = pd.read_csv('data_month.csv') \n",
        "Date['最後結算日']= pd.to_datetime(Date['最後結算日'])    #將X軸判斷為時間日期\n",
        "Date['契約月份'] = Date['契約月份'].astype(str)\n",
        "\n",
        "\n",
        "\n",
        "\n",
        "#資料查表拼接\n",
        "\n",
        "df = pd.DataFrame()   \n",
        "\n",
        "\n",
        "first = TXO_OPT[:Date['最後結算日'][0]]\n",
        "first = first[first['到期月份(週別)']== Date['契約月份'][0]]\n",
        "df = df.append(first, ignore_index = True)\n",
        "\n",
        "\n",
        "\n",
        "number = len(Date.index)\n",
        "\n",
        "for i in range(0,number-1):\n",
        "  option = TXO_OPT[Date['最後結算日'][i]:Date['最後結算日'][i+1]]\n",
        "  option = option[option['到期月份(週別)']== Date['契約月份'][i+1]]\n",
        "  df = df.append(option, ignore_index = True)\n",
        "\n",
        "\n",
        "\n",
        "search = TXO_OPT[TXO_OPT.index== Date['最後結算日'].iloc[-1]]\n",
        "search = search[~search['到期月份(週別)'].str.contains(Date['契約月份'].iloc[-1])]\n",
        "\n",
        "\n",
        "add = TXO_OPT[Date['最後結算日'].iloc[-1]:]\n",
        "add = add[add['到期月份(週別)']== search['到期月份(週別)'][0]]\n",
        "\n",
        "df = df.append(add, ignore_index = True)\n",
        "\n",
        "\n",
        "df.set_index('交易日期' , inplace=True)\n",
        "#生成、下載\n",
        "file_name =\"data_week_OPT(Final).csv\"\n",
        "create_csv_OPT(df,file_name)\n",
        "\n",
        "df.reset_index(inplace=True)\n",
        "\n",
        "\n",
        "df = process_csv_OPT(df)\n",
        "df.set_index('交易日期' , inplace=True)\n",
        "\n",
        "#生成、下載\n",
        "file_name =\"月選擇權歷史資料.csv\"\n",
        "create_csv_OPT(df,file_name)\n",
        "files.download(file_name)"
      ],
      "metadata": {
        "id": "JMSZRW2MFPR9"
      },
      "execution_count": null,
      "outputs": []
    },
    {
      "cell_type": "markdown",
      "source": [],
      "metadata": {
        "id": "yp6st6LsEvLX"
      }
    }
  ]
}